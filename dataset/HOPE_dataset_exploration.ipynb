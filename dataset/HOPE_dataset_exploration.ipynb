{
 "cells": [
  {
   "cell_type": "code",
   "execution_count": 2,
   "id": "11281abc-44b3-4eaf-82d2-5462000f3d1f",
   "metadata": {},
   "outputs": [],
   "source": [
    "import numpy as np\n",
    "\n",
    "data = np.load('HOPE/scene_0000_0000.npz', allow_pickle=True)"
   ]
  },
  {
   "cell_type": "markdown",
   "id": "7d6706e3-6a2c-41d7-880e-82b1ac9ed4a9",
   "metadata": {},
   "source": [
    "data.type :  'NpzFile' object has no attribute 'type'"
   ]
  },
  {
   "cell_type": "code",
   "execution_count": 3,
   "id": "c14e17cd-46d8-4a62-a2ab-6bec1187c05b",
   "metadata": {},
   "outputs": [
    {
     "name": "stdout",
     "output_type": "stream",
     "text": [
      "boxes → <class 'numpy.ndarray'>, shape: (10, 4)\n",
      "labels → <class 'numpy.ndarray'>, shape: (10,)\n",
      "confidences → <class 'numpy.ndarray'>, shape: (10,)\n",
      "features → <class 'numpy.ndarray'>, shape: (3,)\n",
      "strides → <class 'numpy.ndarray'>, shape: (3,)\n",
      "channels → <class 'numpy.ndarray'>, shape: (3,)\n",
      "image_path → <class 'numpy.ndarray'>, shape: ()\n",
      "gt_poses → <class 'numpy.ndarray'>, shape: (10, 4, 4)\n"
     ]
    }
   ],
   "source": [
    "for key in data.files:\n",
    "    print(f\"{key} → {type(data[key])}, shape: {getattr(data[key], 'shape', 'N/A')}\")"
   ]
  },
  {
   "cell_type": "code",
   "execution_count": 4,
   "id": "caed898a-31aa-4eff-8a1a-fa7e351ed9b1",
   "metadata": {},
   "outputs": [
    {
     "data": {
      "text/plain": [
       "array([[0.6826747 , 0.74295783, 0.2423914 , 0.37960976],\n",
       "       [0.7338554 , 0.1421779 , 0.24880485, 0.28262138],\n",
       "       [0.2467914 , 0.24561076, 0.28242922, 0.48612386],\n",
       "       [0.9195528 , 0.20658533, 0.16089448, 0.41317067],\n",
       "       [0.18379171, 0.54761094, 0.24759999, 0.4149025 ],\n",
       "       [0.5220326 , 0.07998313, 0.30971068, 0.15967448],\n",
       "       [0.95314515, 0.6317328 , 0.09265633, 0.36444694],\n",
       "       [0.5259021 , 0.41190663, 0.18110141, 0.33517414],\n",
       "       [0.93579626, 0.12156977, 0.12752971, 0.23957399],\n",
       "       [0.7552773 , 0.02211943, 0.15123215, 0.04032503]], dtype=float32)"
      ]
     },
     "execution_count": 4,
     "metadata": {},
     "output_type": "execute_result"
    }
   ],
   "source": [
    "data['boxes']"
   ]
  },
  {
   "cell_type": "code",
   "execution_count": 5,
   "id": "18ec3eed-1d07-44b2-b403-6c04bccf0d65",
   "metadata": {},
   "outputs": [
    {
     "data": {
      "text/plain": [
       "array([ 7, 16, 13, 15, 17, 11,  0, 25,  5, 20], dtype=int32)"
      ]
     },
     "execution_count": 5,
     "metadata": {},
     "output_type": "execute_result"
    }
   ],
   "source": [
    "data['labels']"
   ]
  },
  {
   "cell_type": "code",
   "execution_count": 6,
   "id": "4ff20487-4099-4f50-a721-d3dfc512392e",
   "metadata": {},
   "outputs": [
    {
     "data": {
      "text/plain": [
       "array([0.9938459 , 0.97531927, 0.9656063 , 0.95086724, 0.9456813 ,\n",
       "       0.9404362 , 0.93499887, 0.88978857, 0.82397056, 0.3021614 ],\n",
       "      dtype=float32)"
      ]
     },
     "execution_count": 6,
     "metadata": {},
     "output_type": "execute_result"
    }
   ],
   "source": [
    "data['confidences']"
   ]
  },
  {
   "cell_type": "code",
   "execution_count": 7,
   "id": "81d91b3a-db33-44e5-a927-34a51661f451",
   "metadata": {},
   "outputs": [
    {
     "name": "stdout",
     "output_type": "stream",
     "text": [
      "(1, 128, 80, 80)\n",
      "(1, 256, 40, 40)\n",
      "(1, 512, 20, 20)\n"
     ]
    }
   ],
   "source": [
    "for i in range(data['features'].shape[0]):\n",
    "    print(data['features'][i].shape)"
   ]
  },
  {
   "cell_type": "code",
   "execution_count": 8,
   "id": "88b727d3-c085-4a4f-9c77-a83eb6d2138b",
   "metadata": {},
   "outputs": [
    {
     "data": {
      "text/plain": [
       "array([ 8, 16, 32], dtype=int32)"
      ]
     },
     "execution_count": 8,
     "metadata": {},
     "output_type": "execute_result"
    }
   ],
   "source": [
    "data['strides']"
   ]
  },
  {
   "cell_type": "code",
   "execution_count": 9,
   "id": "9f7bcc2e-52c7-4a1f-be41-3c26eee7125b",
   "metadata": {},
   "outputs": [
    {
     "data": {
      "text/plain": [
       "array([128, 256, 512], dtype=int32)"
      ]
     },
     "execution_count": 9,
     "metadata": {},
     "output_type": "execute_result"
    }
   ],
   "source": [
    "data['channels']"
   ]
  },
  {
   "cell_type": "code",
   "execution_count": 17,
   "id": "562d1817-daea-4d1d-8580-de59fea52919",
   "metadata": {},
   "outputs": [
    {
     "data": {
      "text/plain": [
       "array([[0.3477880358695984, -0.9351716637611389, -0.06706294417381287],\n",
       "       [0.7580374479293823, 0.23837679624557495, 0.6070879697799683],\n",
       "       [-0.5517451763153076, -0.26197415590286255, 0.7917997241020203]],\n",
       "      dtype=object)"
      ]
     },
     "execution_count": 17,
     "metadata": {},
     "output_type": "execute_result"
    }
   ],
   "source": [
    "data['gt_poses'][0][:-1,:-1]"
   ]
  },
  {
   "cell_type": "code",
   "execution_count": 21,
   "id": "7dae167b-29be-40c8-868c-941c67c2deb9",
   "metadata": {},
   "outputs": [
    {
     "data": {
      "text/plain": [
       "array([[0.9999999970770697, 2.3357991096872865e-08,\n",
       "        1.5372579653671892e-08],\n",
       "       [2.3357991096872865e-08, 1.000000072503159, 2.163276846545159e-08],\n",
       "       [1.5372579653671892e-08, 2.163276846545159e-08,\n",
       "        1.0000000010362626]], dtype=object)"
      ]
     },
     "execution_count": 21,
     "metadata": {},
     "output_type": "execute_result"
    }
   ],
   "source": [
    "data['gt_poses'][0][:-1,:-1]@data['gt_poses'][0][:-1,:-1].T"
   ]
  },
  {
   "cell_type": "code",
   "execution_count": 22,
   "id": "11377eba-c110-4506-b6e4-f911e1e762c6",
   "metadata": {},
   "outputs": [
    {
     "data": {
      "text/plain": [
       "array([6.336326599121094, 6.160734176635742, 36.24346160888672],\n",
       "      dtype=object)"
      ]
     },
     "execution_count": 22,
     "metadata": {},
     "output_type": "execute_result"
    }
   ],
   "source": [
    "data['gt_poses'][0][:-1,-1]"
   ]
  }
 ],
 "metadata": {
  "kernelspec": {
   "display_name": "Python 3 (ipykernel)",
   "language": "python",
   "name": "python3"
  },
  "language_info": {
   "codemirror_mode": {
    "name": "ipython",
    "version": 3
   },
   "file_extension": ".py",
   "mimetype": "text/x-python",
   "name": "python",
   "nbconvert_exporter": "python",
   "pygments_lexer": "ipython3",
   "version": "3.11.9"
  }
 },
 "nbformat": 4,
 "nbformat_minor": 5
}
