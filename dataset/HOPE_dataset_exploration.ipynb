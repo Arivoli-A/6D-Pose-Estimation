{
 "cells": [
  {
   "cell_type": "code",
   "execution_count": 1,
   "id": "11281abc-44b3-4eaf-82d2-5462000f3d1f",
   "metadata": {},
   "outputs": [],
   "source": [
    "import numpy as np\n",
    "\n",
    "data = np.load('HOPE/scene_0000_0000.npz', allow_pickle=True)"
   ]
  },
  {
   "cell_type": "markdown",
   "id": "7d6706e3-6a2c-41d7-880e-82b1ac9ed4a9",
   "metadata": {},
   "source": [
    "data.type :  'NpzFile' object has no attribute 'type'"
   ]
  },
  {
   "cell_type": "code",
   "execution_count": 2,
   "id": "c14e17cd-46d8-4a62-a2ab-6bec1187c05b",
   "metadata": {},
   "outputs": [
    {
     "name": "stdout",
     "output_type": "stream",
     "text": [
      "boxes → <class 'numpy.ndarray'>, shape: (10, 4)\n",
      "labels → <class 'numpy.ndarray'>, shape: (10,)\n",
      "confidences → <class 'numpy.ndarray'>, shape: (10,)\n",
      "features → <class 'numpy.ndarray'>, shape: (3,)\n",
      "strides → <class 'numpy.ndarray'>, shape: (3,)\n",
      "channels → <class 'numpy.ndarray'>, shape: (3,)\n",
      "image_path → <class 'numpy.ndarray'>, shape: ()\n",
      "gt_poses → <class 'numpy.ndarray'>, shape: (10, 4, 4)\n"
     ]
    }
   ],
   "source": [
    "for key in data.files:\n",
    "    print(f\"{key} → {type(data[key])}, shape: {getattr(data[key], 'shape', 'N/A')}\")"
   ]
  },
  {
   "cell_type": "code",
   "execution_count": 3,
   "id": "caed898a-31aa-4eff-8a1a-fa7e351ed9b1",
   "metadata": {},
   "outputs": [
    {
     "data": {
      "text/plain": [
       "array([[0.6826747 , 0.74295783, 0.2423914 , 0.37960976],\n",
       "       [0.7338554 , 0.1421779 , 0.24880485, 0.28262138],\n",
       "       [0.2467914 , 0.24561076, 0.28242922, 0.48612386],\n",
       "       [0.9195528 , 0.20658533, 0.16089448, 0.41317067],\n",
       "       [0.18379171, 0.54761094, 0.24759999, 0.4149025 ],\n",
       "       [0.5220326 , 0.07998313, 0.30971068, 0.15967448],\n",
       "       [0.95314515, 0.6317328 , 0.09265633, 0.36444694],\n",
       "       [0.5259021 , 0.41190663, 0.18110141, 0.33517414],\n",
       "       [0.93579626, 0.12156977, 0.12752971, 0.23957399],\n",
       "       [0.7552773 , 0.02211943, 0.15123215, 0.04032503]], dtype=float32)"
      ]
     },
     "execution_count": 3,
     "metadata": {},
     "output_type": "execute_result"
    }
   ],
   "source": [
    "data['boxes']"
   ]
  },
  {
   "cell_type": "code",
   "execution_count": 4,
   "id": "18ec3eed-1d07-44b2-b403-6c04bccf0d65",
   "metadata": {},
   "outputs": [
    {
     "data": {
      "text/plain": [
       "array([ 7, 16, 13, 15, 17, 11,  0, 25,  5, 20], dtype=int32)"
      ]
     },
     "execution_count": 4,
     "metadata": {},
     "output_type": "execute_result"
    }
   ],
   "source": [
    "data['labels']"
   ]
  },
  {
   "cell_type": "code",
   "execution_count": 5,
   "id": "4ff20487-4099-4f50-a721-d3dfc512392e",
   "metadata": {},
   "outputs": [
    {
     "data": {
      "text/plain": [
       "array([0.9938459 , 0.97531927, 0.9656063 , 0.95086724, 0.9456813 ,\n",
       "       0.9404362 , 0.93499887, 0.88978857, 0.82397056, 0.3021614 ],\n",
       "      dtype=float32)"
      ]
     },
     "execution_count": 5,
     "metadata": {},
     "output_type": "execute_result"
    }
   ],
   "source": [
    "data['confidences']"
   ]
  },
  {
   "cell_type": "code",
   "execution_count": 6,
   "id": "81d91b3a-db33-44e5-a927-34a51661f451",
   "metadata": {},
   "outputs": [
    {
     "name": "stdout",
     "output_type": "stream",
     "text": [
      "(1, 128, 80, 80)\n",
      "(1, 256, 40, 40)\n",
      "(1, 512, 20, 20)\n"
     ]
    }
   ],
   "source": [
    "for i in range(data['features'].shape[0]):\n",
    "    print(data['features'][i].shape)"
   ]
  },
  {
   "cell_type": "code",
   "execution_count": 7,
   "id": "88b727d3-c085-4a4f-9c77-a83eb6d2138b",
   "metadata": {},
   "outputs": [
    {
     "data": {
      "text/plain": [
       "array([ 8, 16, 32], dtype=int32)"
      ]
     },
     "execution_count": 7,
     "metadata": {},
     "output_type": "execute_result"
    }
   ],
   "source": [
    "data['strides']"
   ]
  },
  {
   "cell_type": "code",
   "execution_count": 8,
   "id": "9f7bcc2e-52c7-4a1f-be41-3c26eee7125b",
   "metadata": {},
   "outputs": [
    {
     "data": {
      "text/plain": [
       "array([128, 256, 512], dtype=int32)"
      ]
     },
     "execution_count": 8,
     "metadata": {},
     "output_type": "execute_result"
    }
   ],
   "source": [
    "data['channels']"
   ]
  },
  {
   "cell_type": "code",
   "execution_count": 9,
   "id": "562d1817-daea-4d1d-8580-de59fea52919",
   "metadata": {},
   "outputs": [
    {
     "data": {
      "text/plain": [
       "array([[0.3477880358695984, -0.9351716637611389, -0.06706294417381287],\n",
       "       [0.7580374479293823, 0.23837679624557495, 0.6070879697799683],\n",
       "       [-0.5517451763153076, -0.26197415590286255, 0.7917997241020203]],\n",
       "      dtype=object)"
      ]
     },
     "execution_count": 9,
     "metadata": {},
     "output_type": "execute_result"
    }
   ],
   "source": [
    "data['gt_poses'][0][:-1,:-1]"
   ]
  },
  {
   "cell_type": "code",
   "execution_count": 10,
   "id": "7dae167b-29be-40c8-868c-941c67c2deb9",
   "metadata": {},
   "outputs": [
    {
     "data": {
      "text/plain": [
       "array([[0.9999999970770697, 2.3357991096872865e-08,\n",
       "        1.5372579653671892e-08],\n",
       "       [2.3357991096872865e-08, 1.000000072503159, 2.163276846545159e-08],\n",
       "       [1.5372579653671892e-08, 2.163276846545159e-08,\n",
       "        1.0000000010362626]], dtype=object)"
      ]
     },
     "execution_count": 10,
     "metadata": {},
     "output_type": "execute_result"
    }
   ],
   "source": [
    "data['gt_poses'][0][:-1,:-1]@data['gt_poses'][0][:-1,:-1].T"
   ]
  },
  {
   "cell_type": "code",
   "execution_count": 11,
   "id": "11377eba-c110-4506-b6e4-f911e1e762c6",
   "metadata": {},
   "outputs": [
    {
     "data": {
      "text/plain": [
       "array([6.336326599121094, 6.160734176635742, 36.24346160888672],\n",
       "      dtype=object)"
      ]
     },
     "execution_count": 11,
     "metadata": {},
     "output_type": "execute_result"
    }
   ],
   "source": [
    "data['gt_poses'][0][:-1,-1]"
   ]
  },
  {
   "cell_type": "code",
   "execution_count": 12,
   "id": "187487b5-7448-4d99-afee-8abd1d559dd8",
   "metadata": {},
   "outputs": [
    {
     "data": {
      "text/plain": [
       "array('hope-yolo/images/train/scene_0000_0000.jpg', dtype=object)"
      ]
     },
     "execution_count": 12,
     "metadata": {},
     "output_type": "execute_result"
    }
   ],
   "source": [
    "data['image_path']"
   ]
  },
  {
   "cell_type": "markdown",
   "id": "b138d312-e059-4532-bd15-b0f71c11d64f",
   "metadata": {},
   "source": [
    "With mask"
   ]
  },
  {
   "cell_type": "code",
   "execution_count": 13,
   "id": "a805dc69-1849-485d-9f4d-0a974c9cae11",
   "metadata": {},
   "outputs": [],
   "source": [
    "import numpy as np\n",
    "\n",
    "data = np.load('HOPE_20250606_192620/scene_0000_0000.npz', allow_pickle=True)"
   ]
  },
  {
   "cell_type": "code",
   "execution_count": 14,
   "id": "63b71d78-be72-4043-b3ea-9f090168068c",
   "metadata": {},
   "outputs": [
    {
     "name": "stdout",
     "output_type": "stream",
     "text": [
      "boxes → <class 'numpy.ndarray'>, shape: (11, 4)\n",
      "labels → <class 'numpy.ndarray'>, shape: (11,)\n",
      "confidences → <class 'numpy.ndarray'>, shape: (11,)\n",
      "features → <class 'numpy.ndarray'>, shape: (3,)\n",
      "strides → <class 'numpy.ndarray'>, shape: (3,)\n",
      "channels → <class 'numpy.ndarray'>, shape: (3,)\n",
      "image_path → <class 'numpy.ndarray'>, shape: ()\n",
      "gt_poses → <class 'numpy.ndarray'>, shape: (11, 4, 4)\n",
      "mask → <class 'numpy.ndarray'>, shape: (640, 640)\n"
     ]
    }
   ],
   "source": [
    "for key in data.files:\n",
    "    print(f\"{key} → {type(data[key])}, shape: {getattr(data[key], 'shape', 'N/A')}\")"
   ]
  },
  {
   "cell_type": "code",
   "execution_count": 15,
   "id": "c46809f6-a99d-4cc3-91f3-0a86e6d94ec3",
   "metadata": {},
   "outputs": [
    {
     "data": {
      "text/plain": [
       "array([[1, 1, 1, ..., 1, 1, 1],\n",
       "       [1, 1, 1, ..., 1, 1, 1],\n",
       "       [1, 1, 1, ..., 1, 1, 1],\n",
       "       ...,\n",
       "       [1, 1, 1, ..., 1, 1, 1],\n",
       "       [1, 1, 1, ..., 1, 1, 1],\n",
       "       [1, 1, 1, ..., 1, 1, 1]], dtype=uint8)"
      ]
     },
     "execution_count": 15,
     "metadata": {},
     "output_type": "execute_result"
    }
   ],
   "source": [
    "data['mask']"
   ]
  },
  {
   "cell_type": "code",
   "execution_count": 16,
   "id": "09c4d407-2083-491e-87f9-6fc33bcd9bbc",
   "metadata": {},
   "outputs": [
    {
     "data": {
      "text/plain": [
       "array([[0.68425006, 0.6819085 , 0.2407505 , 0.28867644],\n",
       "       [0.24928121, 0.3078591 , 0.28281087, 0.36685723],\n",
       "       [0.91868955, 0.2814702 , 0.16262093, 0.30864468],\n",
       "       [0.7308779 , 0.23072633, 0.24523659, 0.2107439 ],\n",
       "       [0.5124391 , 0.18332557, 0.31446275, 0.11776853],\n",
       "       [0.18479119, 0.54073685, 0.24330251, 0.30689564],\n",
       "       [0.9531004 , 0.59674007, 0.09321442, 0.2873332 ],\n",
       "       [0.52503234, 0.4324596 , 0.17635326, 0.24789362],\n",
       "       [0.9344305 , 0.22649126, 0.13038711, 0.20295687],\n",
       "       [0.72981584, 0.14322272, 0.12455807, 0.03690901],\n",
       "       [0.7124439 , 0.1419061 , 0.09323816, 0.0348927 ]], dtype=float32)"
      ]
     },
     "execution_count": 16,
     "metadata": {},
     "output_type": "execute_result"
    }
   ],
   "source": [
    "data['boxes']"
   ]
  },
  {
   "cell_type": "code",
   "execution_count": 17,
   "id": "881e7456-38a7-47e5-aedc-fcdeb8356d0c",
   "metadata": {},
   "outputs": [
    {
     "data": {
      "text/plain": [
       "array([ 7, 13, 15, 16, 11, 17,  0, 25,  5, 20, 20], dtype=int32)"
      ]
     },
     "execution_count": 17,
     "metadata": {},
     "output_type": "execute_result"
    }
   ],
   "source": [
    "data['labels']"
   ]
  },
  {
   "cell_type": "code",
   "execution_count": 18,
   "id": "166a4db6-83bb-4c34-9948-46a15451ffcb",
   "metadata": {},
   "outputs": [
    {
     "data": {
      "text/plain": [
       "array([[1, 1, 1, ..., 1, 1, 1],\n",
       "       [1, 1, 1, ..., 1, 1, 1],\n",
       "       [1, 1, 1, ..., 1, 1, 1],\n",
       "       ...,\n",
       "       [1, 1, 1, ..., 1, 1, 1],\n",
       "       [1, 1, 1, ..., 1, 1, 1],\n",
       "       [1, 1, 1, ..., 1, 1, 1]], dtype=uint8)"
      ]
     },
     "execution_count": 18,
     "metadata": {},
     "output_type": "execute_result"
    }
   ],
   "source": [
    "data['mask']"
   ]
  },
  {
   "cell_type": "code",
   "execution_count": 19,
   "id": "811e613d-456f-4758-8175-24f482c34317",
   "metadata": {},
   "outputs": [
    {
     "data": {
      "text/plain": [
       "<matplotlib.colorbar.Colorbar at 0x7f8e70a0d450>"
      ]
     },
     "execution_count": 19,
     "metadata": {},
     "output_type": "execute_result"
    },
    {
     "data": {
      "image/png": "[encoded data removed]",
      "text/plain": [
       "<Figure size 640x480 with 2 Axes>"
      ]
     },
     "metadata": {},
     "output_type": "display_data"
    }
   ],
   "source": [
    "import matplotlib.pyplot as plt\n",
    "plt.imshow(data['mask'], cmap='gray')\n",
    "plt.colorbar()"
   ]
  },
  {
   "cell_type": "code",
   "execution_count": 20,
   "id": "3dc3d183-bdeb-402d-a98d-e6564fdfb600",
   "metadata": {},
   "outputs": [],
   "source": [
    "import torch"
   ]
  },
  {
   "cell_type": "code",
   "execution_count": 21,
   "id": "8520f70e-eab2-40e5-99d6-c67e016a8bfe",
   "metadata": {},
   "outputs": [
    {
     "ename": "TypeError",
     "evalue": "can't convert np.ndarray of type numpy.object_. The only supported types are: float64, float32, float16, complex64, complex128, int64, int32, int16, int8, uint8, and bool.",
     "output_type": "error",
     "traceback": [
      "\u001b[0;31m---------------------------------------------------------------------------\u001b[0m",
      "\u001b[0;31mTypeError\u001b[0m                                 Traceback (most recent call last)",
      "Cell \u001b[0;32mIn[21], line 1\u001b[0m\n\u001b[0;32m----> 1\u001b[0m \u001b[43mtorch\u001b[49m\u001b[38;5;241;43m.\u001b[39;49m\u001b[43mtensor\u001b[49m\u001b[43m(\u001b[49m\u001b[43mdata\u001b[49m\u001b[43m[\u001b[49m\u001b[38;5;124;43m'\u001b[39;49m\u001b[38;5;124;43mgt_poses\u001b[39;49m\u001b[38;5;124;43m'\u001b[39;49m\u001b[43m]\u001b[49m\u001b[43m)\u001b[49m\n",
      "\u001b[0;31mTypeError\u001b[0m: can't convert np.ndarray of type numpy.object_. The only supported types are: float64, float32, float16, complex64, complex128, int64, int32, int16, int8, uint8, and bool."
     ]
    }
   ],
   "source": [
    "torch.tensor(data['gt_poses'])"
   ]
  }
 ],
 "metadata": {
  "kernelspec": {
   "display_name": "Python 3 (ipykernel)",
   "language": "python",
   "name": "python3"
  },
  "language_info": {
   "codemirror_mode": {
    "name": "ipython",
    "version": 3
   },
   "file_extension": ".py",
   "mimetype": "text/x-python",
   "name": "python",
   "nbconvert_exporter": "python",
   "pygments_lexer": "ipython3",
   "version": "3.11.9"
  }
 },
 "nbformat": 4,
 "nbformat_minor": 5
}
